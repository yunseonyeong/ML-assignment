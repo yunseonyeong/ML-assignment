{
 "cells": [
  {
   "cell_type": "markdown",
   "metadata": {},
   "source": [
    "# Logistic Regression "
   ]
  },
  {
   "cell_type": "markdown",
   "metadata": {},
   "source": [
    "## import library"
   ]
  },
  {
   "cell_type": "code",
   "execution_count": 31,
   "metadata": {},
   "outputs": [],
   "source": [
    "import numpy as np\n",
    "import matplotlib.pyplot as plt\n",
    "import matplotlib.colors as colors\n",
    "from matplotlib import ticker, cm"
   ]
  },
  {
   "cell_type": "markdown",
   "metadata": {},
   "source": [
    "## load training data"
   ]
  },
  {
   "cell_type": "code",
   "execution_count": 32,
   "metadata": {},
   "outputs": [
    {
     "name": "stdout",
     "output_type": "stream",
     "text": [
      "number of data =  600\n",
      "data type of point x =  float64\n",
      "data type of point y =  float64\n"
     ]
    }
   ],
   "source": [
    "fname_data = 'assignment_08_data.csv'\n",
    "\n",
    "data        = np.genfromtxt(fname_data, delimiter=',')\n",
    "number_data = data.shape[0]\n",
    "\n",
    "point_x = data[:, 0]\n",
    "point_y = data[:, 1]\n",
    "label   = data[:, 2]\n",
    "\n",
    "print('number of data = ', number_data)\n",
    "print('data type of point x = ', point_x.dtype)\n",
    "print('data type of point y = ', point_y.dtype)\n",
    "\n",
    "point_x_class_0 = point_x[label == 0]\n",
    "point_y_class_0 = point_y[label == 0]\n",
    "\n",
    "point_x_class_1 = point_x[label == 1]\n",
    "point_y_class_1 = point_y[label == 1]\n",
    "\n",
    "\n"
   ]
  },
  {
   "cell_type": "markdown",
   "metadata": {},
   "source": [
    "## plot the data"
   ]
  },
  {
   "cell_type": "code",
   "execution_count": 33,
   "metadata": {},
   "outputs": [
    {
     "data": {
      "image/png": "[encoded data removed]",
      "text/plain": [
       "<Figure size 576x576 with 1 Axes>"
      ]
     },
     "metadata": {
      "needs_background": "light"
     },
     "output_type": "display_data"
    }
   ],
   "source": [
    "f = plt.figure(figsize=(8,8))   \n",
    "\n",
    "plt.title('training data')\n",
    "plt.plot(point_x_class_0, point_y_class_0, 'o', color='blue', label='class = 0')\n",
    "plt.plot(point_x_class_1, point_y_class_1, 'o', color='red', label='class = 1')\n",
    "plt.axis('equal')\n",
    "plt.legend()\n",
    "plt.tight_layout()\n",
    "plt.show()"
   ]
  },
  {
   "cell_type": "markdown",
   "metadata": {},
   "source": [
    "## define the linear regression function"
   ]
  },
  {
   "cell_type": "markdown",
   "metadata": {},
   "source": [
    "- $\\theta = (\\theta_0, \\theta_1, \\theta_2)$\n",
    "- point = $(1, x, y) \\in \\mathbb{R}^3$"
   ]
  },
  {
   "cell_type": "code",
   "execution_count": 34,
   "metadata": {},
   "outputs": [
    {
     "name": "stdout",
     "output_type": "stream",
     "text": [
      "(2, 1)\n"
     ]
    }
   ],
   "source": [
    "def compute_linear_regression(theta,point):\n",
    "\n",
    "    # ++++++++++++++++++++++++++++++++++++++++++++++++++\n",
    "    # complete the blanks\n",
    "    #\n",
    "    \n",
    "    # value = np.inner(theta, point)\n",
    "\n",
    "    theta_vector = theta.reshape(1, 3).T\n",
    "    \n",
    "    value = np.dot(point, theta_vector)\n",
    "    #\n",
    "    # ++++++++++++++++++++++++++++++++++++++++++++++++++\n",
    "    # print(value.shape)\n",
    "    return value\n",
    "\n",
    "a = compute_linear_regression(np.array([0.1,0.2,0.3]), np.array([[1,2,3],[1,-2,-3]]))\n",
    "\n"
   ]
  },
  {
   "cell_type": "markdown",
   "metadata": {},
   "source": [
    "## define sigmoid function with input"
   ]
  },
  {
   "cell_type": "markdown",
   "metadata": {},
   "source": [
    "- $z \\in \\mathbb{R}$"
   ]
  },
  {
   "cell_type": "code",
   "execution_count": 35,
   "metadata": {},
   "outputs": [],
   "source": [
    "def sigmoid(z):\n",
    "\n",
    "    # ++++++++++++++++++++++++++++++++++++++++++++++++++\n",
    "    # complete the blanks\n",
    "    #\n",
    "    \n",
    "    \n",
    "    value = 1 / (1 + np.exp(-z))\n",
    "    #\n",
    "    # ++++++++++++++++++++++++++++++++++++++++++++++++++\n",
    "\n",
    "    return value "
   ]
  },
  {
   "cell_type": "markdown",
   "metadata": {},
   "source": [
    "## define the logistic regression function"
   ]
  },
  {
   "cell_type": "markdown",
   "metadata": {},
   "source": [
    "- $\\theta = (\\theta_0, \\theta_1, \\theta_2) \\in \\mathbb{R}^3$\n",
    "- point = $(1, x, y) \\in \\mathbb{R}^3$"
   ]
  },
  {
   "cell_type": "code",
   "execution_count": 36,
   "metadata": {},
   "outputs": [
    {
     "name": "stdout",
     "output_type": "stream",
     "text": [
      "(2, 1)\n"
     ]
    },
    {
     "data": {
      "text/plain": [
       "array([[0.80218389],\n",
       "       [0.23147522]])"
      ]
     },
     "execution_count": 36,
     "metadata": {},
     "output_type": "execute_result"
    }
   ],
   "source": [
    "def compute_logistic_regression(theta, point):\n",
    "\n",
    "    # ++++++++++++++++++++++++++++++++++++++++++++++++++\n",
    "    # complete the blanks\n",
    "    #\n",
    "\n",
    "\n",
    "    value = sigmoid(compute_linear_regression(theta,point))\n",
    "    # print(value.shape)\n",
    "    #\n",
    "    # ++++++++++++++++++++++++++++++++++++++++++++++++++\n",
    "    # print(theta.shape)\n",
    "    # print(value.shape)\n",
    "    # print(point.shape)\n",
    "    # print(value[0])\n",
    "    return value\n",
    "\n",
    "compute_logistic_regression(np.array([0.1,0.2,0.3]), np.array([[1,2,3],[1,-2,-3]]))"
   ]
  },
  {
   "cell_type": "markdown",
   "metadata": {},
   "source": [
    "## define the residual function"
   ]
  },
  {
   "cell_type": "markdown",
   "metadata": {},
   "source": [
    "- $\\theta = (\\theta_0, \\theta_1, \\theta_2) \\in \\mathbb{R}^3$\n",
    "- point $= (x, y) \\in \\mathbb{R}^2$\n",
    "- label $= l \\in \\{0, 1\\}$"
   ]
  },
  {
   "cell_type": "code",
   "execution_count": 37,
   "metadata": {},
   "outputs": [
    {
     "name": "stdout",
     "output_type": "stream",
     "text": [
      "(2, 1)\n",
      "(2, 1)\n"
     ]
    },
    {
     "data": {
      "text/plain": [
       "array([1.48041741, 0.50328247])"
      ]
     },
     "execution_count": 37,
     "metadata": {},
     "output_type": "execute_result"
    }
   ],
   "source": [
    "def compute_residual(theta, point, label):\n",
    "\n",
    "\n",
    "    logistic = compute_logistic_regression(theta, point)\n",
    "    print(logistic.shape)\n",
    "    residual = np.zeros(len(label))\n",
    "    for i in range(len(label)):\n",
    "      residual[i] = (-1)*label[i]*np.log(logistic[i]) - (1-label[i])*(np.log(1-logistic[i]))\n",
    "\n",
    "    return residual\n",
    "\n",
    "compute_residual(np.array([0.1,0.2,0.3]), np.array([[1,2,3],[1,-2,-3]]), np.array([0.1,0.2]))\n",
    "\n"
   ]
  },
  {
   "cell_type": "markdown",
   "metadata": {},
   "source": [
    "## define the loss function for the logistic regression"
   ]
  },
  {
   "cell_type": "markdown",
   "metadata": {},
   "source": [
    "- $\\theta = (\\theta_0, \\theta_1, \\theta_2) \\in \\mathbb{R}^3$\n",
    "- point $= (1, x, y) \\in \\mathbb{R}^3$\n",
    "- label $= l \\in \\{0, 1\\}$"
   ]
  },
  {
   "cell_type": "code",
   "execution_count": 38,
   "metadata": {},
   "outputs": [
    {
     "name": "stdout",
     "output_type": "stream",
     "text": [
      "(2, 1)\n",
      "(2, 1)\n"
     ]
    },
    {
     "data": {
      "text/plain": [
       "0.991849938628241"
      ]
     },
     "execution_count": 38,
     "metadata": {},
     "output_type": "execute_result"
    }
   ],
   "source": [
    "def compute_loss(theta, point, label):\n",
    "\n",
    "    # ++++++++++++++++++++++++++++++++++++++++++++++++++\n",
    "    # complete the blanks\n",
    "    #\n",
    "    n = point.shape[0]\n",
    "    residual = compute_residual(theta, point, label)\n",
    "    loss = np.sum(residual) / n\n",
    "    #\n",
    "    # ++++++++++++++++++++++++++++++++++++++++++++++++++\n",
    "\n",
    "    return loss\n",
    "\n",
    "compute_loss(np.array([0.1,0.2,0.3]), np.array([[1,2,3],[1,-2,-3]]), np.array([0.1,0.2]))\n"
   ]
  },
  {
   "cell_type": "markdown",
   "metadata": {},
   "source": [
    "## define the gradient of the loss with respect to the model parameter $\\theta$"
   ]
  },
  {
   "cell_type": "markdown",
   "metadata": {},
   "source": [
    "- $\\theta = (\\theta_0, \\theta_1, \\theta_2) \\in \\mathbb{R}^3$\n",
    "- point $= (1, x, y) \\in \\mathbb{R}^3$\n",
    "- label $= l \\in \\{0, 1\\}$"
   ]
  },
  {
   "cell_type": "code",
   "execution_count": 43,
   "metadata": {},
   "outputs": [
    {
     "name": "stdout",
     "output_type": "stream",
     "text": [
      "(2, 1)\n",
      "(2, 1)\n",
      "(2, 1)\n",
      "(2, 1)\n"
     ]
    },
    {
     "data": {
      "text/plain": [
       "array([[0.94528718]])"
      ]
     },
     "execution_count": 43,
     "metadata": {},
     "output_type": "execute_result"
    }
   ],
   "source": [
    "def compute_gradient(theta, point, label):\n",
    "\n",
    "\n",
    "    logistic = compute_logistic_regression(theta,point)\n",
    "    linear = compute_linear_regression(theta, point)\n",
    "    gradient = np.dot((logistic.T-label),linear)\n",
    "    print(logistic.shape)\n",
    "    print(linear.shape)\n",
    "    # ++++++++++++++++++++++++++++++++++++++++++++++++++\n",
    "\n",
    "    return gradient\n",
    "\n",
    "compute_gradient(np.array([0.1,0.2,0.3]), np.array([[1,2,3],[1,-2,-3]]), np.array([0.1,0.2]))"
   ]
  },
  {
   "cell_type": "markdown",
   "metadata": {},
   "source": [
    "## initialize the gradient descent algorithm"
   ]
  },
  {
   "cell_type": "code",
   "execution_count": 40,
   "metadata": {
    "tags": []
   },
   "outputs": [
    {
     "name": "stdout",
     "output_type": "stream",
     "text": [
      "shape of point_class_0 :  (300, 3)\n",
      "shape of point_class_1 :  (300, 3)\n",
      "shape of label_0 :  (300,)\n",
      "shape of label_1 :  (300,)\n",
      "shape of point :  (600, 3)\n",
      "shape of label :  (600,)\n"
     ]
    }
   ],
   "source": [
    "num_iteration   = 5000  # USE THIS VALUE for the number of gradient descent iterations \n",
    "learning_rate   = 0.001 # USE THIS VALUE for the learning rate\n",
    "\n",
    "theta           = np.array((0, 0, 0))\n",
    "theta_iteration = np.zeros((num_iteration, theta.size))\n",
    "loss_iteration  = np.zeros(num_iteration)\n",
    "\n",
    "number_point_class_0    = len(point_x_class_0)\n",
    "number_point_class_1    = len(point_x_class_1)\n",
    "\n",
    "point_class_0   = np.ones((number_point_class_0, 3))\n",
    "point_class_1   = np.ones((number_point_class_1, 3))\n",
    "\n",
    "point_class_0[:, 1] = point_x_class_0\n",
    "point_class_0[:, 2] = point_y_class_0\n",
    " \n",
    "point_class_1[:, 1] = point_x_class_1\n",
    "point_class_1[:, 2] = point_y_class_1\n",
    "\n",
    "label_0     = np.zeros(number_point_class_0)\n",
    "label_1     = np.ones(number_point_class_1)\n",
    "\n",
    "point = np.concatenate((point_class_0, point_class_1), axis=0)\n",
    "label = np.concatenate((label_0, label_1), axis=0)\n",
    "\n",
    "print('shape of point_class_0 : ', point_class_0.shape)\n",
    "print('shape of point_class_1 : ', point_class_1.shape)\n",
    "print('shape of label_0 : ', label_0.shape)\n",
    "print('shape of label_1 : ', label_1.shape)\n",
    "\n",
    "print('shape of point : ', point.shape)\n",
    "print('shape of label : ', label.shape)"
   ]
  },
  {
   "cell_type": "markdown",
   "metadata": {},
   "source": [
    "## run the gradient descent algorithm to optimize the loss function with respect to the model parameter"
   ]
  },
  {
   "cell_type": "code",
   "execution_count": 41,
   "metadata": {
    "tags": [
     "outputPrepend"
    ]
   },
   "outputs": [
    {
     "name": "stdout",
     "output_type": "stream",
     "text": [
      "(600, 1)\n",
      "(600, 1)\n"
     ]
    },
    {
     "ename": "ValueError",
     "evalue": "cannot reshape array of size 1800 into shape (1,3)",
     "output_type": "error",
     "traceback": [
      "\u001b[1;31m---------------------------------------------------------------------------\u001b[0m",
      "\u001b[1;31mValueError\u001b[0m                                Traceback (most recent call last)",
      "\u001b[1;32mc:\\Users\\dbstj\\Desktop\\4-1\\머신러닝 과제\\ML-assignment\\08\\assignment_08.ipynb Cell 29'\u001b[0m in \u001b[0;36m<cell line: 1>\u001b[1;34m()\u001b[0m\n\u001b[0;32m      <a href='vscode-notebook-cell:/c%3A/Users/dbstj/Desktop/4-1/%EB%A8%B8%EC%8B%A0%EB%9F%AC%EB%8B%9D%20%EA%B3%BC%EC%A0%9C/ML-assignment/08/assignment_08.ipynb#ch0000028?line=0'>1</a>\u001b[0m \u001b[39mfor\u001b[39;00m i \u001b[39min\u001b[39;00m \u001b[39mrange\u001b[39m(num_iteration):\n\u001b[0;32m      <a href='vscode-notebook-cell:/c%3A/Users/dbstj/Desktop/4-1/%EB%A8%B8%EC%8B%A0%EB%9F%AC%EB%8B%9D%20%EA%B3%BC%EC%A0%9C/ML-assignment/08/assignment_08.ipynb#ch0000028?line=1'>2</a>\u001b[0m     \n\u001b[0;32m      <a href='vscode-notebook-cell:/c%3A/Users/dbstj/Desktop/4-1/%EB%A8%B8%EC%8B%A0%EB%9F%AC%EB%8B%9D%20%EA%B3%BC%EC%A0%9C/ML-assignment/08/assignment_08.ipynb#ch0000028?line=2'>3</a>\u001b[0m     \u001b[39m# ++++++++++++++++++++++++++++++++++++++++++++++++++\u001b[39;00m\n\u001b[0;32m      <a href='vscode-notebook-cell:/c%3A/Users/dbstj/Desktop/4-1/%EB%A8%B8%EC%8B%A0%EB%9F%AC%EB%8B%9D%20%EA%B3%BC%EC%A0%9C/ML-assignment/08/assignment_08.ipynb#ch0000028?line=3'>4</a>\u001b[0m     \u001b[39m# complete the blanks\u001b[39;00m\n\u001b[0;32m      <a href='vscode-notebook-cell:/c%3A/Users/dbstj/Desktop/4-1/%EB%A8%B8%EC%8B%A0%EB%9F%AC%EB%8B%9D%20%EA%B3%BC%EC%A0%9C/ML-assignment/08/assignment_08.ipynb#ch0000028?line=4'>5</a>\u001b[0m     \u001b[39m#\u001b[39;00m\n\u001b[0;32m      <a href='vscode-notebook-cell:/c%3A/Users/dbstj/Desktop/4-1/%EB%A8%B8%EC%8B%A0%EB%9F%AC%EB%8B%9D%20%EA%B3%BC%EC%A0%9C/ML-assignment/08/assignment_08.ipynb#ch0000028?line=7'>8</a>\u001b[0m     theta   \u001b[39m=\u001b[39m theta \u001b[39m-\u001b[39m (learning_rate \u001b[39m*\u001b[39m compute_gradient(theta, point, label))\n\u001b[1;32m----> <a href='vscode-notebook-cell:/c%3A/Users/dbstj/Desktop/4-1/%EB%A8%B8%EC%8B%A0%EB%9F%AC%EB%8B%9D%20%EA%B3%BC%EC%A0%9C/ML-assignment/08/assignment_08.ipynb#ch0000028?line=8'>9</a>\u001b[0m     loss    \u001b[39m=\u001b[39m compute_loss(theta, point, label)\n\u001b[0;32m     <a href='vscode-notebook-cell:/c%3A/Users/dbstj/Desktop/4-1/%EB%A8%B8%EC%8B%A0%EB%9F%AC%EB%8B%9D%20%EA%B3%BC%EC%A0%9C/ML-assignment/08/assignment_08.ipynb#ch0000028?line=9'>10</a>\u001b[0m     \u001b[39m#\u001b[39;00m\n\u001b[0;32m     <a href='vscode-notebook-cell:/c%3A/Users/dbstj/Desktop/4-1/%EB%A8%B8%EC%8B%A0%EB%9F%AC%EB%8B%9D%20%EA%B3%BC%EC%A0%9C/ML-assignment/08/assignment_08.ipynb#ch0000028?line=10'>11</a>\u001b[0m     \u001b[39m# ++++++++++++++++++++++++++++++++++++++++++++++++++\u001b[39;00m\n\u001b[0;32m     <a href='vscode-notebook-cell:/c%3A/Users/dbstj/Desktop/4-1/%EB%A8%B8%EC%8B%A0%EB%9F%AC%EB%8B%9D%20%EA%B3%BC%EC%A0%9C/ML-assignment/08/assignment_08.ipynb#ch0000028?line=12'>13</a>\u001b[0m     theta_iteration[i, :]   \u001b[39m=\u001b[39m theta\n",
      "\u001b[1;32mc:\\Users\\dbstj\\Desktop\\4-1\\머신러닝 과제\\ML-assignment\\08\\assignment_08.ipynb Cell 22'\u001b[0m in \u001b[0;36mcompute_loss\u001b[1;34m(theta, point, label)\u001b[0m\n\u001b[0;32m      <a href='vscode-notebook-cell:/c%3A/Users/dbstj/Desktop/4-1/%EB%A8%B8%EC%8B%A0%EB%9F%AC%EB%8B%9D%20%EA%B3%BC%EC%A0%9C/ML-assignment/08/assignment_08.ipynb#ch0000021?line=0'>1</a>\u001b[0m \u001b[39mdef\u001b[39;00m \u001b[39mcompute_loss\u001b[39m(theta, point, label):\n\u001b[0;32m      <a href='vscode-notebook-cell:/c%3A/Users/dbstj/Desktop/4-1/%EB%A8%B8%EC%8B%A0%EB%9F%AC%EB%8B%9D%20%EA%B3%BC%EC%A0%9C/ML-assignment/08/assignment_08.ipynb#ch0000021?line=1'>2</a>\u001b[0m \n\u001b[0;32m      <a href='vscode-notebook-cell:/c%3A/Users/dbstj/Desktop/4-1/%EB%A8%B8%EC%8B%A0%EB%9F%AC%EB%8B%9D%20%EA%B3%BC%EC%A0%9C/ML-assignment/08/assignment_08.ipynb#ch0000021?line=2'>3</a>\u001b[0m     \u001b[39m# ++++++++++++++++++++++++++++++++++++++++++++++++++\u001b[39;00m\n\u001b[0;32m      <a href='vscode-notebook-cell:/c%3A/Users/dbstj/Desktop/4-1/%EB%A8%B8%EC%8B%A0%EB%9F%AC%EB%8B%9D%20%EA%B3%BC%EC%A0%9C/ML-assignment/08/assignment_08.ipynb#ch0000021?line=3'>4</a>\u001b[0m     \u001b[39m# complete the blanks\u001b[39;00m\n\u001b[0;32m      <a href='vscode-notebook-cell:/c%3A/Users/dbstj/Desktop/4-1/%EB%A8%B8%EC%8B%A0%EB%9F%AC%EB%8B%9D%20%EA%B3%BC%EC%A0%9C/ML-assignment/08/assignment_08.ipynb#ch0000021?line=4'>5</a>\u001b[0m     \u001b[39m#\u001b[39;00m\n\u001b[0;32m      <a href='vscode-notebook-cell:/c%3A/Users/dbstj/Desktop/4-1/%EB%A8%B8%EC%8B%A0%EB%9F%AC%EB%8B%9D%20%EA%B3%BC%EC%A0%9C/ML-assignment/08/assignment_08.ipynb#ch0000021?line=5'>6</a>\u001b[0m     n \u001b[39m=\u001b[39m point\u001b[39m.\u001b[39mshape[\u001b[39m0\u001b[39m]\n\u001b[1;32m----> <a href='vscode-notebook-cell:/c%3A/Users/dbstj/Desktop/4-1/%EB%A8%B8%EC%8B%A0%EB%9F%AC%EB%8B%9D%20%EA%B3%BC%EC%A0%9C/ML-assignment/08/assignment_08.ipynb#ch0000021?line=6'>7</a>\u001b[0m     residual \u001b[39m=\u001b[39m compute_residual(theta, point, label)\n\u001b[0;32m      <a href='vscode-notebook-cell:/c%3A/Users/dbstj/Desktop/4-1/%EB%A8%B8%EC%8B%A0%EB%9F%AC%EB%8B%9D%20%EA%B3%BC%EC%A0%9C/ML-assignment/08/assignment_08.ipynb#ch0000021?line=7'>8</a>\u001b[0m     loss \u001b[39m=\u001b[39m np\u001b[39m.\u001b[39msum(residual) \u001b[39m/\u001b[39m n\n\u001b[0;32m      <a href='vscode-notebook-cell:/c%3A/Users/dbstj/Desktop/4-1/%EB%A8%B8%EC%8B%A0%EB%9F%AC%EB%8B%9D%20%EA%B3%BC%EC%A0%9C/ML-assignment/08/assignment_08.ipynb#ch0000021?line=8'>9</a>\u001b[0m     \u001b[39m#\u001b[39;00m\n\u001b[0;32m     <a href='vscode-notebook-cell:/c%3A/Users/dbstj/Desktop/4-1/%EB%A8%B8%EC%8B%A0%EB%9F%AC%EB%8B%9D%20%EA%B3%BC%EC%A0%9C/ML-assignment/08/assignment_08.ipynb#ch0000021?line=9'>10</a>\u001b[0m     \u001b[39m# ++++++++++++++++++++++++++++++++++++++++++++++++++\u001b[39;00m\n",
      "\u001b[1;32mc:\\Users\\dbstj\\Desktop\\4-1\\머신러닝 과제\\ML-assignment\\08\\assignment_08.ipynb Cell 19'\u001b[0m in \u001b[0;36mcompute_residual\u001b[1;34m(theta, point, label)\u001b[0m\n\u001b[0;32m      <a href='vscode-notebook-cell:/c%3A/Users/dbstj/Desktop/4-1/%EB%A8%B8%EC%8B%A0%EB%9F%AC%EB%8B%9D%20%EA%B3%BC%EC%A0%9C/ML-assignment/08/assignment_08.ipynb#ch0000018?line=0'>1</a>\u001b[0m \u001b[39mdef\u001b[39;00m \u001b[39mcompute_residual\u001b[39m(theta, point, label):\n\u001b[1;32m----> <a href='vscode-notebook-cell:/c%3A/Users/dbstj/Desktop/4-1/%EB%A8%B8%EC%8B%A0%EB%9F%AC%EB%8B%9D%20%EA%B3%BC%EC%A0%9C/ML-assignment/08/assignment_08.ipynb#ch0000018?line=3'>4</a>\u001b[0m     logistic \u001b[39m=\u001b[39m compute_logistic_regression(theta, point)\n\u001b[0;32m      <a href='vscode-notebook-cell:/c%3A/Users/dbstj/Desktop/4-1/%EB%A8%B8%EC%8B%A0%EB%9F%AC%EB%8B%9D%20%EA%B3%BC%EC%A0%9C/ML-assignment/08/assignment_08.ipynb#ch0000018?line=4'>5</a>\u001b[0m     \u001b[39mprint\u001b[39m(logistic\u001b[39m.\u001b[39mshape)\n\u001b[0;32m      <a href='vscode-notebook-cell:/c%3A/Users/dbstj/Desktop/4-1/%EB%A8%B8%EC%8B%A0%EB%9F%AC%EB%8B%9D%20%EA%B3%BC%EC%A0%9C/ML-assignment/08/assignment_08.ipynb#ch0000018?line=5'>6</a>\u001b[0m     residual \u001b[39m=\u001b[39m np\u001b[39m.\u001b[39mzeros(\u001b[39mlen\u001b[39m(label))\n",
      "\u001b[1;32mc:\\Users\\dbstj\\Desktop\\4-1\\머신러닝 과제\\ML-assignment\\08\\assignment_08.ipynb Cell 16'\u001b[0m in \u001b[0;36mcompute_logistic_regression\u001b[1;34m(theta, point)\u001b[0m\n\u001b[0;32m      <a href='vscode-notebook-cell:/c%3A/Users/dbstj/Desktop/4-1/%EB%A8%B8%EC%8B%A0%EB%9F%AC%EB%8B%9D%20%EA%B3%BC%EC%A0%9C/ML-assignment/08/assignment_08.ipynb#ch0000015?line=0'>1</a>\u001b[0m \u001b[39mdef\u001b[39;00m \u001b[39mcompute_logistic_regression\u001b[39m(theta, point):\n\u001b[0;32m      <a href='vscode-notebook-cell:/c%3A/Users/dbstj/Desktop/4-1/%EB%A8%B8%EC%8B%A0%EB%9F%AC%EB%8B%9D%20%EA%B3%BC%EC%A0%9C/ML-assignment/08/assignment_08.ipynb#ch0000015?line=1'>2</a>\u001b[0m \n\u001b[0;32m      <a href='vscode-notebook-cell:/c%3A/Users/dbstj/Desktop/4-1/%EB%A8%B8%EC%8B%A0%EB%9F%AC%EB%8B%9D%20%EA%B3%BC%EC%A0%9C/ML-assignment/08/assignment_08.ipynb#ch0000015?line=2'>3</a>\u001b[0m     \u001b[39m# ++++++++++++++++++++++++++++++++++++++++++++++++++\u001b[39;00m\n\u001b[0;32m      <a href='vscode-notebook-cell:/c%3A/Users/dbstj/Desktop/4-1/%EB%A8%B8%EC%8B%A0%EB%9F%AC%EB%8B%9D%20%EA%B3%BC%EC%A0%9C/ML-assignment/08/assignment_08.ipynb#ch0000015?line=3'>4</a>\u001b[0m     \u001b[39m# complete the blanks\u001b[39;00m\n\u001b[0;32m      <a href='vscode-notebook-cell:/c%3A/Users/dbstj/Desktop/4-1/%EB%A8%B8%EC%8B%A0%EB%9F%AC%EB%8B%9D%20%EA%B3%BC%EC%A0%9C/ML-assignment/08/assignment_08.ipynb#ch0000015?line=4'>5</a>\u001b[0m     \u001b[39m#\u001b[39;00m\n\u001b[1;32m----> <a href='vscode-notebook-cell:/c%3A/Users/dbstj/Desktop/4-1/%EB%A8%B8%EC%8B%A0%EB%9F%AC%EB%8B%9D%20%EA%B3%BC%EC%A0%9C/ML-assignment/08/assignment_08.ipynb#ch0000015?line=7'>8</a>\u001b[0m     value \u001b[39m=\u001b[39m sigmoid(compute_linear_regression(theta,point))\n\u001b[0;32m      <a href='vscode-notebook-cell:/c%3A/Users/dbstj/Desktop/4-1/%EB%A8%B8%EC%8B%A0%EB%9F%AC%EB%8B%9D%20%EA%B3%BC%EC%A0%9C/ML-assignment/08/assignment_08.ipynb#ch0000015?line=8'>9</a>\u001b[0m     \u001b[39m# print(value.shape)\u001b[39;00m\n\u001b[0;32m     <a href='vscode-notebook-cell:/c%3A/Users/dbstj/Desktop/4-1/%EB%A8%B8%EC%8B%A0%EB%9F%AC%EB%8B%9D%20%EA%B3%BC%EC%A0%9C/ML-assignment/08/assignment_08.ipynb#ch0000015?line=9'>10</a>\u001b[0m     \u001b[39m#\u001b[39;00m\n\u001b[0;32m     <a href='vscode-notebook-cell:/c%3A/Users/dbstj/Desktop/4-1/%EB%A8%B8%EC%8B%A0%EB%9F%AC%EB%8B%9D%20%EA%B3%BC%EC%A0%9C/ML-assignment/08/assignment_08.ipynb#ch0000015?line=10'>11</a>\u001b[0m     \u001b[39m# ++++++++++++++++++++++++++++++++++++++++++++++++++\u001b[39;00m\n\u001b[1;32m   (...)\u001b[0m\n\u001b[0;32m     <a href='vscode-notebook-cell:/c%3A/Users/dbstj/Desktop/4-1/%EB%A8%B8%EC%8B%A0%EB%9F%AC%EB%8B%9D%20%EA%B3%BC%EC%A0%9C/ML-assignment/08/assignment_08.ipynb#ch0000015?line=13'>14</a>\u001b[0m     \u001b[39m# print(point.shape)\u001b[39;00m\n\u001b[0;32m     <a href='vscode-notebook-cell:/c%3A/Users/dbstj/Desktop/4-1/%EB%A8%B8%EC%8B%A0%EB%9F%AC%EB%8B%9D%20%EA%B3%BC%EC%A0%9C/ML-assignment/08/assignment_08.ipynb#ch0000015?line=14'>15</a>\u001b[0m     \u001b[39m# print(value[0])\u001b[39;00m\n\u001b[0;32m     <a href='vscode-notebook-cell:/c%3A/Users/dbstj/Desktop/4-1/%EB%A8%B8%EC%8B%A0%EB%9F%AC%EB%8B%9D%20%EA%B3%BC%EC%A0%9C/ML-assignment/08/assignment_08.ipynb#ch0000015?line=15'>16</a>\u001b[0m     \u001b[39mreturn\u001b[39;00m value\n",
      "\u001b[1;32mc:\\Users\\dbstj\\Desktop\\4-1\\머신러닝 과제\\ML-assignment\\08\\assignment_08.ipynb Cell 10'\u001b[0m in \u001b[0;36mcompute_linear_regression\u001b[1;34m(theta, point)\u001b[0m\n\u001b[0;32m      <a href='vscode-notebook-cell:/c%3A/Users/dbstj/Desktop/4-1/%EB%A8%B8%EC%8B%A0%EB%9F%AC%EB%8B%9D%20%EA%B3%BC%EC%A0%9C/ML-assignment/08/assignment_08.ipynb#ch0000009?line=0'>1</a>\u001b[0m \u001b[39mdef\u001b[39;00m \u001b[39mcompute_linear_regression\u001b[39m(theta,point):\n\u001b[0;32m      <a href='vscode-notebook-cell:/c%3A/Users/dbstj/Desktop/4-1/%EB%A8%B8%EC%8B%A0%EB%9F%AC%EB%8B%9D%20%EA%B3%BC%EC%A0%9C/ML-assignment/08/assignment_08.ipynb#ch0000009?line=1'>2</a>\u001b[0m \n\u001b[0;32m      <a href='vscode-notebook-cell:/c%3A/Users/dbstj/Desktop/4-1/%EB%A8%B8%EC%8B%A0%EB%9F%AC%EB%8B%9D%20%EA%B3%BC%EC%A0%9C/ML-assignment/08/assignment_08.ipynb#ch0000009?line=2'>3</a>\u001b[0m     \u001b[39m# ++++++++++++++++++++++++++++++++++++++++++++++++++\u001b[39;00m\n\u001b[1;32m   (...)\u001b[0m\n\u001b[0;32m      <a href='vscode-notebook-cell:/c%3A/Users/dbstj/Desktop/4-1/%EB%A8%B8%EC%8B%A0%EB%9F%AC%EB%8B%9D%20%EA%B3%BC%EC%A0%9C/ML-assignment/08/assignment_08.ipynb#ch0000009?line=5'>6</a>\u001b[0m     \n\u001b[0;32m      <a href='vscode-notebook-cell:/c%3A/Users/dbstj/Desktop/4-1/%EB%A8%B8%EC%8B%A0%EB%9F%AC%EB%8B%9D%20%EA%B3%BC%EC%A0%9C/ML-assignment/08/assignment_08.ipynb#ch0000009?line=6'>7</a>\u001b[0m     \u001b[39m# value = np.inner(theta, point)\u001b[39;00m\n\u001b[1;32m----> <a href='vscode-notebook-cell:/c%3A/Users/dbstj/Desktop/4-1/%EB%A8%B8%EC%8B%A0%EB%9F%AC%EB%8B%9D%20%EA%B3%BC%EC%A0%9C/ML-assignment/08/assignment_08.ipynb#ch0000009?line=8'>9</a>\u001b[0m     theta_vector \u001b[39m=\u001b[39m theta\u001b[39m.\u001b[39;49mreshape(\u001b[39m1\u001b[39;49m, \u001b[39m3\u001b[39;49m)\u001b[39m.\u001b[39mT\n\u001b[0;32m     <a href='vscode-notebook-cell:/c%3A/Users/dbstj/Desktop/4-1/%EB%A8%B8%EC%8B%A0%EB%9F%AC%EB%8B%9D%20%EA%B3%BC%EC%A0%9C/ML-assignment/08/assignment_08.ipynb#ch0000009?line=10'>11</a>\u001b[0m     value \u001b[39m=\u001b[39m np\u001b[39m.\u001b[39mdot(point, theta_vector)\n\u001b[0;32m     <a href='vscode-notebook-cell:/c%3A/Users/dbstj/Desktop/4-1/%EB%A8%B8%EC%8B%A0%EB%9F%AC%EB%8B%9D%20%EA%B3%BC%EC%A0%9C/ML-assignment/08/assignment_08.ipynb#ch0000009?line=11'>12</a>\u001b[0m     \u001b[39m#\u001b[39;00m\n\u001b[0;32m     <a href='vscode-notebook-cell:/c%3A/Users/dbstj/Desktop/4-1/%EB%A8%B8%EC%8B%A0%EB%9F%AC%EB%8B%9D%20%EA%B3%BC%EC%A0%9C/ML-assignment/08/assignment_08.ipynb#ch0000009?line=12'>13</a>\u001b[0m     \u001b[39m# ++++++++++++++++++++++++++++++++++++++++++++++++++\u001b[39;00m\n",
      "\u001b[1;31mValueError\u001b[0m: cannot reshape array of size 1800 into shape (1,3)"
     ]
    }
   ],
   "source": [
    "for i in range(num_iteration):\n",
    "    \n",
    "    # ++++++++++++++++++++++++++++++++++++++++++++++++++\n",
    "    # complete the blanks\n",
    "    #\n",
    "\n",
    "    \n",
    "    theta   = theta - (learning_rate * compute_gradient(theta, point, label))\n",
    "    loss    = compute_loss(theta, point, label)\n",
    "    #\n",
    "    # ++++++++++++++++++++++++++++++++++++++++++++++++++\n",
    "\n",
    "    theta_iteration[i, :]   = theta\n",
    "    loss_iteration[i]       = loss\n",
    "\n",
    "theta_optimal = theta"
   ]
  },
  {
   "cell_type": "markdown",
   "metadata": {},
   "source": [
    "___"
   ]
  },
  {
   "cell_type": "markdown",
   "metadata": {},
   "source": [
    "___"
   ]
  },
  {
   "cell_type": "markdown",
   "metadata": {},
   "source": [
    "## functions for presenting the results"
   ]
  },
  {
   "cell_type": "markdown",
   "metadata": {},
   "source": [
    "___"
   ]
  },
  {
   "cell_type": "markdown",
   "metadata": {},
   "source": [
    "___"
   ]
  },
  {
   "cell_type": "code",
   "execution_count": null,
   "metadata": {},
   "outputs": [],
   "source": [
    "def function_result_01():\n",
    "\n",
    "    input1  = np.array([0.1, 0.2, 0.3])\n",
    "    input2  = np.array([[1, 2, 3], [1, -2, -3]])\n",
    "\n",
    "    value = compute_linear_regression(input1, input2)\n",
    "    \n",
    "    print(value)"
   ]
  },
  {
   "cell_type": "code",
   "execution_count": null,
   "metadata": {},
   "outputs": [],
   "source": [
    "def function_result_02():\n",
    "    \n",
    "    input1  = np.array([0.1, 0.2, 0.3])\n",
    "    input2  = np.array([[1, 2, 3], [1, -2, -3]])\n",
    "\n",
    "    value = compute_logistic_regression(input1, input2)\n",
    "\n",
    "    print(value)"
   ]
  },
  {
   "cell_type": "code",
   "execution_count": null,
   "metadata": {},
   "outputs": [],
   "source": [
    "def function_result_03():\n",
    "\n",
    "    input1  = np.array([0.1, 0.2, 0.3])\n",
    "    input2  = np.array([[1, 2, 3], [1, -2, -3]])\n",
    "    input3  = np.array([0, 1])\n",
    "\n",
    "    value = compute_residual(input1, input2, input3)\n",
    "\n",
    "    print(value)"
   ]
  },
  {
   "cell_type": "code",
   "execution_count": null,
   "metadata": {},
   "outputs": [],
   "source": [
    "def function_result_04():\n",
    "    \n",
    "    input1  = np.array([0.1, 0.2, 0.3])\n",
    "    input2  = np.array([[1, 2, 3], [1, -2, -3]])\n",
    "    input3  = np.array([[0], [1]])\n",
    "\n",
    "    value = compute_loss(input1, input2, input3)\n",
    "\n",
    "    print(value)"
   ]
  },
  {
   "cell_type": "code",
   "execution_count": null,
   "metadata": {},
   "outputs": [],
   "source": [
    "def function_result_05():\n",
    "    \n",
    "    input1  = np.array([0.1, 0.2, 0.3])\n",
    "    input2  = np.array([[1, 2, 3], [1, -2, -3]])\n",
    "    input3  = np.array([[0], [1]])\n",
    "\n",
    "    value = compute_gradient(input1, input2, input3)\n",
    "\n",
    "    print(value)"
   ]
  },
  {
   "cell_type": "code",
   "execution_count": null,
   "metadata": {},
   "outputs": [],
   "source": [
    "def function_result_06():\n",
    "    \n",
    "    plt.figure(figsize=(8,6))\n",
    "    plt.title('loss')\n",
    "\n",
    "    plt.plot(loss_iteration, '-', color='red')\n",
    "    plt.xlabel('iteration')\n",
    "    plt.ylabel('loss')\n",
    "\n",
    "    plt.tight_layout()\n",
    "    plt.show()"
   ]
  },
  {
   "cell_type": "code",
   "execution_count": null,
   "metadata": {},
   "outputs": [],
   "source": [
    "def function_result_07():\n",
    "    \n",
    "    plt.figure(figsize=(8,6))   # USE THIS VALUE for the size of the figure\n",
    "    plt.title('model parameter')\n",
    "\n",
    "    plt.plot(theta_iteration[:, 0], '-', color='red', label=r'$\\theta_0$')\n",
    "    plt.plot(theta_iteration[:, 1], '-', color='green', label=r'$\\theta_1$')\n",
    "    plt.plot(theta_iteration[:, 2], '-', color='blue', label=r'$\\theta_2$')\n",
    "    \n",
    "    plt.xlabel('iteration')\n",
    "    plt.legend()\n",
    "\n",
    "    plt.tight_layout()\n",
    "    plt.show()"
   ]
  },
  {
   "cell_type": "markdown",
   "metadata": {},
   "source": [
    "## plot the linear regression values over the 2-dimensional Euclidean space and superimpose the training data"
   ]
  },
  {
   "cell_type": "code",
   "execution_count": null,
   "metadata": {},
   "outputs": [],
   "source": [
    "def function_result_08():\n",
    "\n",
    "    X = np.arange(-20, 35, 0.1) # USE THIS VALUE for the range of x values in the construction of coordinate\n",
    "    Y = np.arange(-20, 35, 0.1) # USE THIS VALUE for the range of y values in the construction of coordinate\n",
    "\n",
    "    [XX, YY] = np.meshgrid(X, Y)\n",
    "\n",
    "    # ++++++++++++++++++++++++++++++++++++++++++++++++++\n",
    "    # complete the blanks\n",
    "    #\n",
    "\n",
    "\n",
    "    #\n",
    "    # ++++++++++++++++++++++++++++++++++++++++++++++++++"
   ]
  },
  {
   "cell_type": "markdown",
   "metadata": {},
   "source": [
    "## plot the logistic regression values over the 2-dimensional Euclidean space"
   ]
  },
  {
   "cell_type": "code",
   "execution_count": null,
   "metadata": {},
   "outputs": [],
   "source": [
    "def function_result_09():\n",
    "\n",
    "    X = np.arange(-20, 35, 0.1) # USE THIS VALUE for the range of x values in the construction of coordinate\n",
    "    Y = np.arange(-20, 35, 0.1) # USE THIS VALUE for the range of y values in the construction of coordinate\n",
    "\n",
    "    [XX, YY] = np.meshgrid(X, Y)\n",
    "\n",
    "    # ++++++++++++++++++++++++++++++++++++++++++++++++++\n",
    "    # complete the blanks\n",
    "    #\n",
    "\n",
    "\n",
    "    #\n",
    "    # ++++++++++++++++++++++++++++++++++++++++++++++++++"
   ]
  },
  {
   "cell_type": "markdown",
   "metadata": {},
   "source": [
    "___"
   ]
  },
  {
   "cell_type": "markdown",
   "metadata": {},
   "source": [
    "___"
   ]
  },
  {
   "cell_type": "markdown",
   "metadata": {},
   "source": [
    "## results"
   ]
  },
  {
   "cell_type": "markdown",
   "metadata": {},
   "source": [
    "___"
   ]
  },
  {
   "cell_type": "markdown",
   "metadata": {},
   "source": [
    "___"
   ]
  },
  {
   "cell_type": "code",
   "execution_count": null,
   "metadata": {},
   "outputs": [
    {
     "name": "stdout",
     "output_type": "stream",
     "text": [
      "**************************************************\n",
      "## [RESULT 01]\n",
      "**************************************************\n",
      "[ 1.4 -1.2]\n",
      "**************************************************\n",
      "## [RESULT 02]\n",
      "**************************************************\n",
      "[0.80218389 0.23147522]\n",
      "**************************************************\n",
      "## [RESULT 03]\n",
      "**************************************************\n",
      "[1.62041741 1.46328247]\n",
      "**************************************************\n",
      "## [RESULT 04]\n",
      "**************************************************\n",
      "1.541849938628241\n",
      "**************************************************\n",
      "## [RESULT 05]\n",
      "**************************************************\n",
      "[1.54184994 0.15713494 0.23570241]\n",
      "**************************************************\n",
      "## [RESULT 06]\n",
      "**************************************************\n"
     ]
    },
    {
     "data": {
      "image/png": "[encoded data removed]",
      "text/plain": [
       "<Figure size 576x432 with 1 Axes>"
      ]
     },
     "metadata": {
      "needs_background": "light"
     },
     "output_type": "display_data"
    },
    {
     "name": "stdout",
     "output_type": "stream",
     "text": [
      "**************************************************\n",
      "## [RESULT 07]\n",
      "**************************************************\n"
     ]
    },
    {
     "data": {
      "image/png": "[encoded data removed]",
      "text/plain": [
       "<Figure size 576x432 with 1 Axes>"
      ]
     },
     "metadata": {
      "needs_background": "light"
     },
     "output_type": "display_data"
    },
    {
     "name": "stdout",
     "output_type": "stream",
     "text": [
      "**************************************************\n",
      "## [RESULT 08]\n",
      "**************************************************\n",
      "**************************************************\n",
      "## [RESULT 09]\n",
      "**************************************************\n"
     ]
    }
   ],
   "source": [
    "number_result = 9\n",
    "\n",
    "for i in range(number_result):\n",
    "    title = '## [RESULT {:02d}]'.format(i+1)\n",
    "    name_function = 'function_result_{:02d}()'.format(i+1)\n",
    "\n",
    "    print('**************************************************')\n",
    "    print(title)\n",
    "    print('**************************************************')\n",
    "    eval(name_function)"
   ]
  },
  {
   "cell_type": "code",
   "execution_count": null,
   "metadata": {},
   "outputs": [],
   "source": []
  }
 ],
 "metadata": {
  "interpreter": {
   "hash": "7b93d61257c6e81016c4e093f2bcdba86e5929448b41fa6d4e229d7a83ef86a4"
  },
  "kernelspec": {
   "display_name": "Python 3.8.4 64-bit",
   "language": "python",
   "name": "python3"
  },
  "language_info": {
   "codemirror_mode": {
    "name": "ipython",
    "version": 3
   },
   "file_extension": ".py",
   "mimetype": "text/x-python",
   "name": "python",
   "nbconvert_exporter": "python",
   "pygments_lexer": "ipython3",
   "version": "3.8.4"
  },
  "metadata": {
   "interpreter": {
    "hash": "31f2aee4e71d21fbe5cf8b01ff0e069b9275f58929596ceb00d14d90e3e16cd6"
   }
  }
 },
 "nbformat": 4,
 "nbformat_minor": 2
}
